{
 "cells": [
  {
   "cell_type": "code",
   "execution_count": 1,
   "metadata": {
    "collapsed": true
   },
   "outputs": [],
   "source": [
    "from __future__ import division\n",
    "import numpy as np\n",
    "import pandas as pd\n",
    "from sklearn.feature_extraction.text import CountVectorizer\n",
    "from sklearn.feature_extraction.text import TfidfTransformer\n",
    "from sklearn.model_selection import train_test_split\n",
    "from sklearn import preprocessing\n",
    "import itertools\n",
    "\n",
    "from sklearn.naive_bayes import MultinomialNB\n",
    "from sklearn.linear_model import SGDClassifier\n",
    "from sklearn.ensemble import RandomForestClassifier\n",
    "\n",
    "import matplotlib.pyplot as plt\n",
    "from sklearn.metrics import confusion_matrix"
   ]
  },
  {
   "cell_type": "code",
   "execution_count": 2,
   "metadata": {
    "collapsed": true
   },
   "outputs": [],
   "source": [
    "def plot_confusion_matrix(cm, classes,\n",
    "                          normalize=False,\n",
    "                          title='Confusion matrix',\n",
    "                          cmap=plt.cm.Blues):\n",
    "    \"\"\"\n",
    "    This function prints and plots the confusion matrix.\n",
    "    Normalization can be applied by setting `normalize=True`.\n",
    "    \"\"\"\n",
    "    if normalize:\n",
    "        cm = cm.astype('float') / cm.sum(axis=1)[:, np.newaxis]\n",
    "        print(\"Normalized confusion matrix\")\n",
    "    else:\n",
    "        print('Confusion matrix, without normalization')\n",
    "\n",
    "    print(cm)\n",
    "\n",
    "    plt.imshow(cm, interpolation='nearest', cmap=cmap)\n",
    "    plt.title(title)\n",
    "    plt.colorbar()\n",
    "    tick_marks = np.arange(len(classes))\n",
    "    plt.xticks(tick_marks, classes, rotation=45)\n",
    "    plt.yticks(tick_marks, classes)\n",
    "\n",
    "    fmt = '.2f' if normalize else 'd'\n",
    "    thresh = cm.max() / 2.\n",
    "    for i, j in itertools.product(range(cm.shape[0]), range(cm.shape[1])):\n",
    "        plt.text(j, i, format(cm[i, j], fmt),\n",
    "                 horizontalalignment=\"center\",\n",
    "                 color=\"white\" if cm[i, j] > thresh else \"black\")\n",
    "\n",
    "    plt.tight_layout()\n",
    "    plt.ylabel('True label')\n",
    "    plt.xlabel('Predicted label')\n"
   ]
  },
  {
   "cell_type": "code",
   "execution_count": 3,
   "metadata": {
    "collapsed": false
   },
   "outputs": [
    {
     "name": "stdout",
     "output_type": "stream",
     "text": [
      "Total classes: 302\n",
      "No. of classes with non-single instances in dataset:  302\n"
     ]
    }
   ],
   "source": [
    "#load cleaned dataset\n",
    "dataset = pd.read_csv('cleaned_dataset(1).csv', header=None, skiprows=1);\n",
    "dataset = dataset.dropna(axis=0);\n",
    "questions = dataset[0].values\n",
    "tags = dataset[1].values\n",
    "#tags = dataset.Tag\n",
    "\n",
    "#Train-test split\n",
    "X = questions\n",
    "y = tags\n",
    "\n",
    "#strip spaces and all\n",
    "y = [x.strip() for x in y]\n",
    "\n",
    "\n",
    "le = preprocessing.LabelEncoder()\n",
    "le.fit(y)\n",
    "y = list(le.transform(y))\n",
    "num_classes = len(set(y))\n",
    "\n",
    "print \"Total classes:\", num_classes\n",
    "\n",
    "#remove single instance classes. As these are useless for now.\n",
    "single_instance_idx = [i for i in range(len(y)) if y.count(y[i]) <= 1 ]\n",
    "#print mul_idx\n",
    "\n",
    "#X = np.delete(X, single_instance_idx);\n",
    "#y = list(np.delete(y, single_instance_idx));\n",
    "print \"No. of classes with non-single instances in dataset: \", len(set(y))\n",
    "#convert to BoW rep.\n",
    "\n",
    "count_vect = CountVectorizer(stop_words='english')\n",
    "count_vect.fit(X);\n",
    "X_cnt = count_vect.transform(X)\n",
    "\n",
    "#tfidf\n",
    "tfidf_transformer = TfidfTransformer()\n",
    "tfidf_transformer.fit(X_cnt);\n",
    "\n",
    "#split into train, test set\n",
    "X_train, X_test, y_train, y_test = train_test_split(X, y, test_size=0.2)\n",
    "\n",
    "\n",
    "#print le.inverse_transform(y_test)\n",
    "\n",
    "#if validation required\n",
    "#X_tr, X_val, y_tr, y_val = train_test_split(X_train, y_train, test_size=0.2, random_state=42)\n"
   ]
  },
  {
   "cell_type": "code",
   "execution_count": 4,
   "metadata": {
    "collapsed": false
   },
   "outputs": [
    {
     "name": "stdout",
     "output_type": "stream",
     "text": [
      "Class Distribution\n",
      "Shape of X_cnt (1748, 5752)\n",
      "Unique Classes:  302\n"
     ]
    },
    {
     "data": {
      "image/png": "[encoded data removed]",
      "text/plain": [
       "<matplotlib.figure.Figure at 0x7f5fb40f0bd0>"
      ]
     },
     "metadata": {},
     "output_type": "display_data"
    }
   ],
   "source": [
    "#Visualize\n",
    "#class distribution\n",
    "print \"Class Distribution\"\n",
    "print \"Shape of X_cnt\", X_cnt.shape\n",
    "print \"Unique Classes: \", len(set(y))\n",
    "\n",
    "plt.hist(y, bins=100, histtype='bar', range=(0,304));\n",
    "plt.xlim(xmin=0, xmax = 302)\n",
    "plt.show()"
   ]
  },
  {
   "cell_type": "code",
   "execution_count": 5,
   "metadata": {
    "collapsed": false,
    "scrolled": false
   },
   "outputs": [
    {
     "name": "stderr",
     "output_type": "stream",
     "text": [
      "/usr/local/lib/python2.7/dist-packages/sklearn/feature_extraction/text.py:1059: FutureWarning: Conversion of the second argument of issubdtype from `float` to `np.floating` is deprecated. In future, it will be treated as `np.float64 == np.dtype(float).type`.\n",
      "  if hasattr(X, 'dtype') and np.issubdtype(X.dtype, np.float):\n"
     ]
    }
   ],
   "source": [
    "#count-vector representation\n",
    "X_train_cnt = count_vect.transform(X_train);\n",
    "X_test_cnt = count_vect.transform(X_test);\n",
    "\n",
    "\"\"\"\n",
    "#\n",
    "only count => 0.17 (NB), 0.19 (linear svm no tuning)\n",
    "tfidf => 0.14 (NB), 0.3179 (linear svm n.t.)\n",
    "\"\"\"\n",
    "\n",
    "#tf-idf based representation\n",
    "X_train_tfidf = tfidf_transformer.transform(X_train_cnt);\n",
    "X_test_tfidf = tfidf_transformer.transform(X_test_cnt);"
   ]
  },
  {
   "cell_type": "code",
   "execution_count": 6,
   "metadata": {
    "collapsed": false
   },
   "outputs": [
    {
     "name": "stdout",
     "output_type": "stream",
     "text": [
      "Naive Bayes : Train Acc. 0.6258941344778255\n",
      "Naive Bayes : Test Acc. 0.2742857142857143\n",
      "Lin-SVM Train Acc. 0.9792560801144492\n",
      "Lin-SVM Test Acc. 0.42857142857142855\n",
      "RF Train Acc. 0.5915593705293276\n",
      "RF Test Acc. 0.26857142857142857\n"
     ]
    }
   ],
   "source": [
    "#classifier\n",
    "\n",
    "#train\n",
    "\n",
    "#Multinomial NB\n",
    "clf = MultinomialNB();\n",
    "clf.fit(X_train_tfidf, y_train)\n",
    "\n",
    "print \"Naive Bayes : Train Acc.\", np.mean(y_train == clf.predict(X_train_tfidf))\n",
    "print \"Naive Bayes : Test Acc.\", np.mean(y_test == clf.predict(X_test_tfidf))\n",
    "\n",
    "#SVM\n",
    "clfSVM = SGDClassifier(class_weight=\"balanced\")\n",
    "clfSVM.fit(X_train_tfidf, y_train)\n",
    "pred = clfSVM.predict(X_test_tfidf)\n",
    "\n",
    "print  \"Lin-SVM Train Acc.\", np.mean(y_train == clfSVM.predict(X_train_tfidf))\n",
    "print  \"Lin-SVM Test Acc.\", np.mean(y_test == clfSVM.predict(X_test_tfidf))\n",
    "\n",
    "#Random Forest\n",
    "clfRF = RandomForestClassifier(n_estimators=40, max_depth=10, random_state=42)\n",
    "clfRF.fit(X_train_tfidf, y_train)\n",
    "\n",
    "print  \"RF Train Acc.\", np.mean(y_train == clfRF.predict(X_train_tfidf))\n",
    "print  \"RF Test Acc.\", np.mean(y_test == clfRF.predict(X_test_tfidf))"
   ]
  },
  {
   "cell_type": "code",
   "execution_count": 7,
   "metadata": {
    "collapsed": false,
    "scrolled": false
   },
   "outputs": [
    {
     "data": {
      "image/png": "[encoded data removed]",
      "text/plain": [
       "<matplotlib.figure.Figure at 0x7f5f7d875c90>"
      ]
     },
     "metadata": {},
     "output_type": "display_data"
    }
   ],
   "source": [
    "#Visualization of results\n",
    "plt.hist([y_test, pred], color = ['blue', 'green'], bins=100, normed=1, histtype='bar', range=(0,304));\n",
    "plt.xlim(xmin=0, xmax = 302)\n",
    "plt.show()"
   ]
  },
  {
   "cell_type": "code",
   "execution_count": 8,
   "metadata": {
    "collapsed": false
   },
   "outputs": [
    {
     "name": "stderr",
     "output_type": "stream",
     "text": [
      "/usr/local/lib/python2.7/dist-packages/sklearn/preprocessing/label.py:171: DeprecationWarning: The truth value of an empty array is ambiguous. Returning False, but in future this will result in an error. Use `array.size > 0` to check that an array is not empty.\n",
      "  if diff:\n"
     ]
    }
   ],
   "source": [
    "#confusion matrix\n",
    "y_pred = clfSVM.predict(X_test_tfidf)\n",
    "cnf_matrix = confusion_matrix(y_test, y_pred)\n",
    "np.savetxt('cnf_mat_svm.csv',cnf_matrix, fmt='%1.4f')\n",
    "\n",
    "class_acc = {}\n",
    "class_labels = le.inverse_transform(y_test)\n",
    "\n",
    "for i in range(len(y_test)):\n",
    "    class_idx = y_test[i]\n",
    "    tag_ = class_labels[i]\n",
    "\n",
    "    if (class_acc.has_key(tag_) is False):\n",
    "        class_acc[tag_] = 0;\n",
    "        \n",
    "    class_acc[tag_] += (y_test[i] == y_pred[i])"
   ]
  }
 ],
 "metadata": {
  "kernelspec": {
   "display_name": "Python 2",
   "language": "python",
   "name": "python2"
  },
  "language_info": {
   "codemirror_mode": {
    "name": "ipython",
    "version": 2
   },
   "file_extension": ".py",
   "mimetype": "text/x-python",
   "name": "python",
   "nbconvert_exporter": "python",
   "pygments_lexer": "ipython2",
   "version": "2.7.12"
  }
 },
 "nbformat": 4,
 "nbformat_minor": 2
}
